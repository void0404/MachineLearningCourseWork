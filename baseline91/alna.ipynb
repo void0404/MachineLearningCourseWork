{
 "cells": [
  {
   "cell_type": "code",
   "execution_count": 1,
   "metadata": {
    "collapsed": true,
    "pycharm": {
     "name": "#%%\n"
    }
   },
   "outputs": [
    {
     "name": "stderr",
     "output_type": "stream",
     "text": [
      "E:\\ancaconda2\\envs\\pytorch5\\lib\\site-packages\\scipy\\__init__.py:146: UserWarning: A NumPy version >=1.16.5 and <1.23.0 is required for this version of SciPy (detected version 1.23.1\n",
      "  warnings.warn(f\"A NumPy version >={np_minversion} and <{np_maxversion}\"\n"
     ]
    }
   ],
   "source": [
    "import joblib\n",
    "import pandas\n",
    "import pandas as pd\n",
    "import numpy as np\n",
    "from lightgbm import LGBMClassifier"
   ]
  },
  {
   "cell_type": "code",
   "execution_count": 60,
   "outputs": [
    {
     "data": {
      "text/plain": "            loan_id        user_id    total_loan  year_of_loan      interest  \\\ncount  1.000000e+04   10000.000000  10000.000000  10000.000000  10000.000000   \nmean   1.025210e+06  225209.587700  14402.126591      3.479600     13.222782   \nstd    1.438682e+04   14386.820956   8953.946807      0.853965      4.875755   \nmin    1.000008e+06  200008.000000    818.181818      3.000000      4.779000   \n25%    1.012973e+06  212973.250000   7500.000000      3.000000      9.702000   \n50%    1.025276e+06  225276.500000  12272.727270      3.000000     12.639000   \n75%    1.037694e+06  237694.500000  19636.363640      3.000000     15.985500   \nmax    1.049997e+06  249997.000000  47272.727270      5.000000     33.979000   \n\n       monthly_payment   house_exist  censor_status           use  \\\ncount     10000.000000  10000.000000   10000.000000  10000.000000   \nmean        436.960427      0.612200       1.014600      1.762600   \nstd         261.754396      0.672203       0.787686      2.392031   \nmin          30.440000      0.000000       0.000000      0.000000   \n25%         248.820000      0.000000       0.000000      0.000000   \n50%         371.525000      1.000000       1.000000      0.000000   \n75%         573.830000      1.000000       2.000000      4.000000   \nmax        1503.890000      4.000000       2.000000     13.000000   \n\n          post_code  ...  policy_code           f0           f1           f2  \\\ncount  10000.000000  ...      10000.0  9502.000000  9142.000000  9502.000000   \nmean     257.519100  ...          1.0     5.690486     0.001422     8.467796   \nstd      201.351778  ...          0.0     3.298546     0.037685     7.315953   \nmin        0.000000  ...          1.0     0.000000     0.000000     0.000000   \n25%       99.000000  ...          1.0     3.000000     0.000000     4.000000   \n50%      197.000000  ...          1.0     5.000000     0.000000     7.000000   \n75%      390.000000  ...          1.0     7.000000     0.000000    11.000000   \nmax      901.000000  ...          1.0    33.000000     1.000000    93.000000   \n\n                f3           f4  early_return  early_return_amount  \\\ncount  9502.000000  9502.000000  10000.000000         10000.000000   \nmean     14.659019     8.098085      1.290600          2173.916100   \nstd       8.263954     4.871797      1.449469          3027.539977   \nmin       2.000000     0.000000      0.000000             0.000000   \n25%       9.000000     5.000000      0.000000             0.000000   \n50%      13.000000     7.000000      1.000000           838.500000   \n75%      19.000000    11.000000      3.000000          3354.250000   \nmax      88.000000    50.000000      5.000000         18413.000000   \n\n       early_return_amount_3mon     isDefault  \ncount              10000.000000  10000.000000  \nmean                 335.232240      0.168300  \nstd                  635.108825      0.374151  \nmin                    0.000000      0.000000  \n25%                    0.000000      0.000000  \n50%                    0.000000      0.000000  \n75%                  413.675000      0.000000  \nmax                 5523.900000      1.000000  \n\n[8 rows x 33 columns]",
      "text/html": "<div>\n<style scoped>\n    .dataframe tbody tr th:only-of-type {\n        vertical-align: middle;\n    }\n\n    .dataframe tbody tr th {\n        vertical-align: top;\n    }\n\n    .dataframe thead th {\n        text-align: right;\n    }\n</style>\n<table border=\"1\" class=\"dataframe\">\n  <thead>\n    <tr style=\"text-align: right;\">\n      <th></th>\n      <th>loan_id</th>\n      <th>user_id</th>\n      <th>total_loan</th>\n      <th>year_of_loan</th>\n      <th>interest</th>\n      <th>monthly_payment</th>\n      <th>house_exist</th>\n      <th>censor_status</th>\n      <th>use</th>\n      <th>post_code</th>\n      <th>...</th>\n      <th>policy_code</th>\n      <th>f0</th>\n      <th>f1</th>\n      <th>f2</th>\n      <th>f3</th>\n      <th>f4</th>\n      <th>early_return</th>\n      <th>early_return_amount</th>\n      <th>early_return_amount_3mon</th>\n      <th>isDefault</th>\n    </tr>\n  </thead>\n  <tbody>\n    <tr>\n      <th>count</th>\n      <td>1.000000e+04</td>\n      <td>10000.000000</td>\n      <td>10000.000000</td>\n      <td>10000.000000</td>\n      <td>10000.000000</td>\n      <td>10000.000000</td>\n      <td>10000.000000</td>\n      <td>10000.000000</td>\n      <td>10000.000000</td>\n      <td>10000.000000</td>\n      <td>...</td>\n      <td>10000.0</td>\n      <td>9502.000000</td>\n      <td>9142.000000</td>\n      <td>9502.000000</td>\n      <td>9502.000000</td>\n      <td>9502.000000</td>\n      <td>10000.000000</td>\n      <td>10000.000000</td>\n      <td>10000.000000</td>\n      <td>10000.000000</td>\n    </tr>\n    <tr>\n      <th>mean</th>\n      <td>1.025210e+06</td>\n      <td>225209.587700</td>\n      <td>14402.126591</td>\n      <td>3.479600</td>\n      <td>13.222782</td>\n      <td>436.960427</td>\n      <td>0.612200</td>\n      <td>1.014600</td>\n      <td>1.762600</td>\n      <td>257.519100</td>\n      <td>...</td>\n      <td>1.0</td>\n      <td>5.690486</td>\n      <td>0.001422</td>\n      <td>8.467796</td>\n      <td>14.659019</td>\n      <td>8.098085</td>\n      <td>1.290600</td>\n      <td>2173.916100</td>\n      <td>335.232240</td>\n      <td>0.168300</td>\n    </tr>\n    <tr>\n      <th>std</th>\n      <td>1.438682e+04</td>\n      <td>14386.820956</td>\n      <td>8953.946807</td>\n      <td>0.853965</td>\n      <td>4.875755</td>\n      <td>261.754396</td>\n      <td>0.672203</td>\n      <td>0.787686</td>\n      <td>2.392031</td>\n      <td>201.351778</td>\n      <td>...</td>\n      <td>0.0</td>\n      <td>3.298546</td>\n      <td>0.037685</td>\n      <td>7.315953</td>\n      <td>8.263954</td>\n      <td>4.871797</td>\n      <td>1.449469</td>\n      <td>3027.539977</td>\n      <td>635.108825</td>\n      <td>0.374151</td>\n    </tr>\n    <tr>\n      <th>min</th>\n      <td>1.000008e+06</td>\n      <td>200008.000000</td>\n      <td>818.181818</td>\n      <td>3.000000</td>\n      <td>4.779000</td>\n      <td>30.440000</td>\n      <td>0.000000</td>\n      <td>0.000000</td>\n      <td>0.000000</td>\n      <td>0.000000</td>\n      <td>...</td>\n      <td>1.0</td>\n      <td>0.000000</td>\n      <td>0.000000</td>\n      <td>0.000000</td>\n      <td>2.000000</td>\n      <td>0.000000</td>\n      <td>0.000000</td>\n      <td>0.000000</td>\n      <td>0.000000</td>\n      <td>0.000000</td>\n    </tr>\n    <tr>\n      <th>25%</th>\n      <td>1.012973e+06</td>\n      <td>212973.250000</td>\n      <td>7500.000000</td>\n      <td>3.000000</td>\n      <td>9.702000</td>\n      <td>248.820000</td>\n      <td>0.000000</td>\n      <td>0.000000</td>\n      <td>0.000000</td>\n      <td>99.000000</td>\n      <td>...</td>\n      <td>1.0</td>\n      <td>3.000000</td>\n      <td>0.000000</td>\n      <td>4.000000</td>\n      <td>9.000000</td>\n      <td>5.000000</td>\n      <td>0.000000</td>\n      <td>0.000000</td>\n      <td>0.000000</td>\n      <td>0.000000</td>\n    </tr>\n    <tr>\n      <th>50%</th>\n      <td>1.025276e+06</td>\n      <td>225276.500000</td>\n      <td>12272.727270</td>\n      <td>3.000000</td>\n      <td>12.639000</td>\n      <td>371.525000</td>\n      <td>1.000000</td>\n      <td>1.000000</td>\n      <td>0.000000</td>\n      <td>197.000000</td>\n      <td>...</td>\n      <td>1.0</td>\n      <td>5.000000</td>\n      <td>0.000000</td>\n      <td>7.000000</td>\n      <td>13.000000</td>\n      <td>7.000000</td>\n      <td>1.000000</td>\n      <td>838.500000</td>\n      <td>0.000000</td>\n      <td>0.000000</td>\n    </tr>\n    <tr>\n      <th>75%</th>\n      <td>1.037694e+06</td>\n      <td>237694.500000</td>\n      <td>19636.363640</td>\n      <td>3.000000</td>\n      <td>15.985500</td>\n      <td>573.830000</td>\n      <td>1.000000</td>\n      <td>2.000000</td>\n      <td>4.000000</td>\n      <td>390.000000</td>\n      <td>...</td>\n      <td>1.0</td>\n      <td>7.000000</td>\n      <td>0.000000</td>\n      <td>11.000000</td>\n      <td>19.000000</td>\n      <td>11.000000</td>\n      <td>3.000000</td>\n      <td>3354.250000</td>\n      <td>413.675000</td>\n      <td>0.000000</td>\n    </tr>\n    <tr>\n      <th>max</th>\n      <td>1.049997e+06</td>\n      <td>249997.000000</td>\n      <td>47272.727270</td>\n      <td>5.000000</td>\n      <td>33.979000</td>\n      <td>1503.890000</td>\n      <td>4.000000</td>\n      <td>2.000000</td>\n      <td>13.000000</td>\n      <td>901.000000</td>\n      <td>...</td>\n      <td>1.0</td>\n      <td>33.000000</td>\n      <td>1.000000</td>\n      <td>93.000000</td>\n      <td>88.000000</td>\n      <td>50.000000</td>\n      <td>5.000000</td>\n      <td>18413.000000</td>\n      <td>5523.900000</td>\n      <td>1.000000</td>\n    </tr>\n  </tbody>\n</table>\n<p>8 rows × 33 columns</p>\n</div>"
     },
     "execution_count": 60,
     "metadata": {},
     "output_type": "execute_result"
    }
   ],
   "source": [
    "X_test = pandas.read_csv(\"datasets/test_public.csv\")\n",
    "X_train = pandas.read_csv(\"datasets/train_public.csv\")\n",
    "X_inter = pandas.read_csv(\"datasets/train_internet.csv\")\n",
    "X_train.describe()\n"
   ],
   "metadata": {
    "collapsed": false,
    "pycharm": {
     "name": "#%%\n"
    }
   }
  },
  {
   "cell_type": "code",
   "execution_count": 22,
   "outputs": [
    {
     "data": {
      "text/plain": "(10000, 39)"
     },
     "execution_count": 22,
     "metadata": {},
     "output_type": "execute_result"
    }
   ],
   "source": [
    "X_inter.shape\n",
    "X_train.shape"
   ],
   "metadata": {
    "collapsed": false,
    "pycharm": {
     "name": "#%%\n"
    }
   }
  },
  {
   "cell_type": "code",
   "execution_count": 6,
   "outputs": [
    {
     "data": {
      "text/plain": "            loan_id        user_id    total_loan  year_of_loan     interest  \\\ncount  5.000000e+03    5000.000000   5000.000000   5000.000000  5000.000000   \nmean   1.024992e+06  224991.897800  14257.687727      3.492400    13.207284   \nstd    1.443135e+04   14431.348968   8755.784815      0.861679     4.795365   \nmin    1.000006e+06  200006.000000    818.181818      3.000000     4.788000   \n25%    1.012724e+06  212723.500000   7636.363636      3.000000     9.675000   \n50%    1.024658e+06  224658.500000  12272.727270      3.000000    12.690000   \n75%    1.037519e+06  237518.750000  19200.000000      3.000000    15.990000   \nmax    1.049998e+06  249998.000000  47272.727270      5.000000    34.089000   \n\n       monthly_payment  house_exist  censor_status          use    post_code  \\\ncount      5000.000000  5000.000000    5000.000000  5000.000000  5000.000000   \nmean        430.961668     0.616400       0.998000     1.803200   262.266000   \nstd         251.272924     0.671819       0.781613     2.413801   201.484039   \nmin          30.530000     0.000000       0.000000     0.000000     0.000000   \n25%         250.290000     0.000000       0.000000     0.000000   103.000000   \n50%         375.430000     1.000000       1.000000     0.000000   214.000000   \n75%         564.562500     1.000000       2.000000     4.000000   401.000000   \nmax        1486.340000     5.000000       2.000000    13.000000   936.000000   \n\n       ...         title  policy_code           f0           f1           f2  \\\ncount  ...   5000.000000       5000.0  4741.000000  4546.000000  4741.000000   \nmean   ...   1822.506600          1.0     5.650918     0.000880     8.589538   \nstd    ...   7971.472766          0.0     3.338728     0.029653     7.425200   \nmin    ...      0.000000          1.0     0.000000     0.000000     0.000000   \n25%    ...      0.000000          1.0     3.000000     0.000000     3.000000   \n50%    ...      2.000000          1.0     5.000000     0.000000     7.000000   \n75%    ...      5.000000          1.0     7.000000     0.000000    11.000000   \nmax    ...  61330.000000          1.0    28.000000     1.000000    60.000000   \n\n                f3           f4  early_return  early_return_amount  \\\ncount  4741.000000  4741.000000   5000.000000          5000.000000   \nmean     14.703649     8.132040      1.570000          2195.747800   \nstd       8.123397     4.795245      1.456957          2995.760578   \nmin       2.000000     0.000000      0.000000             0.000000   \n25%       9.000000     5.000000      0.000000             0.000000   \n50%      13.000000     7.000000      1.000000           890.000000   \n75%      19.000000    10.000000      3.000000          3426.000000   \nmax      62.000000    38.000000      5.000000         19710.000000   \n\n       early_return_amount_3mon  \ncount               5000.000000  \nmean                 338.945112  \nstd                  623.447110  \nmin                    0.000000  \n25%                    0.000000  \n50%                    0.000000  \n75%                  426.461539  \nmax                 5968.846154  \n\n[8 rows x 32 columns]",
      "text/html": "<div>\n<style scoped>\n    .dataframe tbody tr th:only-of-type {\n        vertical-align: middle;\n    }\n\n    .dataframe tbody tr th {\n        vertical-align: top;\n    }\n\n    .dataframe thead th {\n        text-align: right;\n    }\n</style>\n<table border=\"1\" class=\"dataframe\">\n  <thead>\n    <tr style=\"text-align: right;\">\n      <th></th>\n      <th>loan_id</th>\n      <th>user_id</th>\n      <th>total_loan</th>\n      <th>year_of_loan</th>\n      <th>interest</th>\n      <th>monthly_payment</th>\n      <th>house_exist</th>\n      <th>censor_status</th>\n      <th>use</th>\n      <th>post_code</th>\n      <th>...</th>\n      <th>title</th>\n      <th>policy_code</th>\n      <th>f0</th>\n      <th>f1</th>\n      <th>f2</th>\n      <th>f3</th>\n      <th>f4</th>\n      <th>early_return</th>\n      <th>early_return_amount</th>\n      <th>early_return_amount_3mon</th>\n    </tr>\n  </thead>\n  <tbody>\n    <tr>\n      <th>count</th>\n      <td>5.000000e+03</td>\n      <td>5000.000000</td>\n      <td>5000.000000</td>\n      <td>5000.000000</td>\n      <td>5000.000000</td>\n      <td>5000.000000</td>\n      <td>5000.000000</td>\n      <td>5000.000000</td>\n      <td>5000.000000</td>\n      <td>5000.000000</td>\n      <td>...</td>\n      <td>5000.000000</td>\n      <td>5000.0</td>\n      <td>4741.000000</td>\n      <td>4546.000000</td>\n      <td>4741.000000</td>\n      <td>4741.000000</td>\n      <td>4741.000000</td>\n      <td>5000.000000</td>\n      <td>5000.000000</td>\n      <td>5000.000000</td>\n    </tr>\n    <tr>\n      <th>mean</th>\n      <td>1.024992e+06</td>\n      <td>224991.897800</td>\n      <td>14257.687727</td>\n      <td>3.492400</td>\n      <td>13.207284</td>\n      <td>430.961668</td>\n      <td>0.616400</td>\n      <td>0.998000</td>\n      <td>1.803200</td>\n      <td>262.266000</td>\n      <td>...</td>\n      <td>1822.506600</td>\n      <td>1.0</td>\n      <td>5.650918</td>\n      <td>0.000880</td>\n      <td>8.589538</td>\n      <td>14.703649</td>\n      <td>8.132040</td>\n      <td>1.570000</td>\n      <td>2195.747800</td>\n      <td>338.945112</td>\n    </tr>\n    <tr>\n      <th>std</th>\n      <td>1.443135e+04</td>\n      <td>14431.348968</td>\n      <td>8755.784815</td>\n      <td>0.861679</td>\n      <td>4.795365</td>\n      <td>251.272924</td>\n      <td>0.671819</td>\n      <td>0.781613</td>\n      <td>2.413801</td>\n      <td>201.484039</td>\n      <td>...</td>\n      <td>7971.472766</td>\n      <td>0.0</td>\n      <td>3.338728</td>\n      <td>0.029653</td>\n      <td>7.425200</td>\n      <td>8.123397</td>\n      <td>4.795245</td>\n      <td>1.456957</td>\n      <td>2995.760578</td>\n      <td>623.447110</td>\n    </tr>\n    <tr>\n      <th>min</th>\n      <td>1.000006e+06</td>\n      <td>200006.000000</td>\n      <td>818.181818</td>\n      <td>3.000000</td>\n      <td>4.788000</td>\n      <td>30.530000</td>\n      <td>0.000000</td>\n      <td>0.000000</td>\n      <td>0.000000</td>\n      <td>0.000000</td>\n      <td>...</td>\n      <td>0.000000</td>\n      <td>1.0</td>\n      <td>0.000000</td>\n      <td>0.000000</td>\n      <td>0.000000</td>\n      <td>2.000000</td>\n      <td>0.000000</td>\n      <td>0.000000</td>\n      <td>0.000000</td>\n      <td>0.000000</td>\n    </tr>\n    <tr>\n      <th>25%</th>\n      <td>1.012724e+06</td>\n      <td>212723.500000</td>\n      <td>7636.363636</td>\n      <td>3.000000</td>\n      <td>9.675000</td>\n      <td>250.290000</td>\n      <td>0.000000</td>\n      <td>0.000000</td>\n      <td>0.000000</td>\n      <td>103.000000</td>\n      <td>...</td>\n      <td>0.000000</td>\n      <td>1.0</td>\n      <td>3.000000</td>\n      <td>0.000000</td>\n      <td>3.000000</td>\n      <td>9.000000</td>\n      <td>5.000000</td>\n      <td>0.000000</td>\n      <td>0.000000</td>\n      <td>0.000000</td>\n    </tr>\n    <tr>\n      <th>50%</th>\n      <td>1.024658e+06</td>\n      <td>224658.500000</td>\n      <td>12272.727270</td>\n      <td>3.000000</td>\n      <td>12.690000</td>\n      <td>375.430000</td>\n      <td>1.000000</td>\n      <td>1.000000</td>\n      <td>0.000000</td>\n      <td>214.000000</td>\n      <td>...</td>\n      <td>2.000000</td>\n      <td>1.0</td>\n      <td>5.000000</td>\n      <td>0.000000</td>\n      <td>7.000000</td>\n      <td>13.000000</td>\n      <td>7.000000</td>\n      <td>1.000000</td>\n      <td>890.000000</td>\n      <td>0.000000</td>\n    </tr>\n    <tr>\n      <th>75%</th>\n      <td>1.037519e+06</td>\n      <td>237518.750000</td>\n      <td>19200.000000</td>\n      <td>3.000000</td>\n      <td>15.990000</td>\n      <td>564.562500</td>\n      <td>1.000000</td>\n      <td>2.000000</td>\n      <td>4.000000</td>\n      <td>401.000000</td>\n      <td>...</td>\n      <td>5.000000</td>\n      <td>1.0</td>\n      <td>7.000000</td>\n      <td>0.000000</td>\n      <td>11.000000</td>\n      <td>19.000000</td>\n      <td>10.000000</td>\n      <td>3.000000</td>\n      <td>3426.000000</td>\n      <td>426.461539</td>\n    </tr>\n    <tr>\n      <th>max</th>\n      <td>1.049998e+06</td>\n      <td>249998.000000</td>\n      <td>47272.727270</td>\n      <td>5.000000</td>\n      <td>34.089000</td>\n      <td>1486.340000</td>\n      <td>5.000000</td>\n      <td>2.000000</td>\n      <td>13.000000</td>\n      <td>936.000000</td>\n      <td>...</td>\n      <td>61330.000000</td>\n      <td>1.0</td>\n      <td>28.000000</td>\n      <td>1.000000</td>\n      <td>60.000000</td>\n      <td>62.000000</td>\n      <td>38.000000</td>\n      <td>5.000000</td>\n      <td>19710.000000</td>\n      <td>5968.846154</td>\n    </tr>\n  </tbody>\n</table>\n<p>8 rows × 32 columns</p>\n</div>"
     },
     "execution_count": 6,
     "metadata": {},
     "output_type": "execute_result"
    }
   ],
   "source": [
    "X_test.describe()"
   ],
   "metadata": {
    "collapsed": false,
    "pycharm": {
     "name": "#%%\n"
    }
   }
  },
  {
   "cell_type": "code",
   "execution_count": 8,
   "outputs": [
    {
     "data": {
      "text/plain": "f1                          8.58%\nwork_year                   6.22%\nf0                          4.98%\nf4                          4.98%\nf3                          4.98%\nf2                          4.98%\npub_dero_bankrup            0.07%\nearlies_credit_mon          0.00%\nrecircle_b                  0.00%\nrecircle_u                  0.00%\ninitial_list_status         0.00%\napp_type                    0.00%\nloan_id                     0.00%\ntitle                       0.00%\npolicy_code                 0.00%\nknown_outstanding_loan      0.00%\nearly_return                0.00%\nearly_return_amount         0.00%\nearly_return_amount_3mon    0.00%\nknown_dero                  0.00%\nscoring_high                0.00%\nuser_id                     0.00%\nscoring_low                 0.00%\ntotal_loan                  0.00%\nyear_of_loan                0.00%\ninterest                    0.00%\nmonthly_payment             0.00%\nclass                       0.00%\nemployer_type               0.00%\nindustry                    0.00%\nhouse_exist                 0.00%\ncensor_status               0.00%\nissue_date                  0.00%\nuse                         0.00%\npost_code                   0.00%\nregion                      0.00%\ndebt_loan_ratio             0.00%\ndel_in_18month              0.00%\nisDefault                   0.00%\ndtype: object"
     },
     "execution_count": 8,
     "metadata": {},
     "output_type": "execute_result"
    }
   ],
   "source": [
    "((X_train.isnull().sum())/X_train.shape[0]).sort_values(ascending=False).map(lambda x:\"{:.2%}\".format(x))"
   ],
   "metadata": {
    "collapsed": false,
    "pycharm": {
     "name": "#%%\n"
    }
   }
  },
  {
   "cell_type": "code",
   "execution_count": 24,
   "outputs": [
    {
     "data": {
      "text/plain": "loan_id                     False\nuser_id                     False\ntotal_loan                  False\nyear_of_loan                False\ninterest                    False\nmonthly_payment             False\nclass                       False\nemployer_type               False\nindustry                    False\nwork_year                    True\nhouse_exist                 False\ncensor_status               False\nissue_date                  False\nuse                         False\npost_code                   False\nregion                      False\ndebt_loan_ratio             False\ndel_in_18month              False\nscoring_low                 False\nscoring_high                False\nknown_outstanding_loan      False\nknown_dero                  False\npub_dero_bankrup             True\nrecircle_b                  False\nrecircle_u                  False\ninitial_list_status         False\napp_type                    False\nearlies_credit_mon          False\ntitle                       False\npolicy_code                 False\nf0                           True\nf1                           True\nf2                           True\nf3                           True\nf4                           True\nearly_return                False\nearly_return_amount         False\nearly_return_amount_3mon    False\nisDefault                   False\ndtype: bool"
     },
     "execution_count": 24,
     "metadata": {},
     "output_type": "execute_result"
    }
   ],
   "source": [
    "X_train.isnull().any()"
   ],
   "metadata": {
    "collapsed": false,
    "pycharm": {
     "name": "#%%\n"
    }
   }
  },
  {
   "cell_type": "code",
   "execution_count": 12,
   "outputs": [
    {
     "data": {
      "text/plain": "array(['3 years', '10+ years', '6 years', '< 1 year', '2 years', nan,\n       '4 years', '1 year', '8 years', '5 years', '9 years', '7 years'],\n      dtype=object)"
     },
     "execution_count": 12,
     "metadata": {},
     "output_type": "execute_result"
    }
   ],
   "source": [
    "X_train.work_year.unique()"
   ],
   "metadata": {
    "collapsed": false,
    "pycharm": {
     "name": "#%%\n"
    }
   }
  },
  {
   "cell_type": "code",
   "execution_count": 14,
   "outputs": [
    {
     "data": {
      "text/plain": "Index(['app_type', 'censor_status', 'class', 'debt_loan_ratio',\n       'del_in_18month', 'earlies_credit_mon', 'early_return',\n       'early_return_amount', 'early_return_amount_3mon', 'employer_type',\n       'f0', 'f1', 'f2', 'f3', 'f4', 'house_exist', 'industry',\n       'initial_list_status', 'interest', 'isDefault', 'issue_date',\n       'known_dero', 'known_outstanding_loan', 'loan_id', 'monthly_payment',\n       'policy_code', 'post_code', 'pub_dero_bankrup', 'recircle_b',\n       'recircle_u', 'region', 'scoring_high', 'scoring_low', 'title',\n       'total_loan', 'use', 'user_id', 'work_year', 'year_of_loan'],\n      dtype='object')"
     },
     "execution_count": 14,
     "metadata": {},
     "output_type": "execute_result"
    }
   ],
   "source": [
    "X_train.columns.difference(X_inter)"
   ],
   "metadata": {
    "collapsed": false,
    "pycharm": {
     "name": "#%%\n"
    }
   }
  },
  {
   "cell_type": "code",
   "execution_count": 15,
   "outputs": [
    {
     "data": {
      "text/plain": "Index(['censor_status', 'class', 'debt_loan_ratio', 'del_in_18month',\n       'earlies_credit_mon', 'early_return', 'early_return_amount',\n       'early_return_amount_3mon', 'employer_type', 'f0', 'f1', 'f2', 'f3',\n       'f4', 'f5', 'house_exist', 'house_loan_status', 'industry',\n       'initial_list_status', 'interest', 'isDefault', 'issue_date', 'loan_id',\n       'marriage', 'monthly_payment', 'offsprings', 'policy_code', 'post_code',\n       'pub_dero_bankrup', 'recircle_b', 'recircle_u', 'region',\n       'scoring_high', 'scoring_low', 'sub_class', 'title', 'total_loan',\n       'use', 'user_id', 'work_type', 'work_year', 'year_of_loan'],\n      dtype='object')"
     },
     "execution_count": 15,
     "metadata": {},
     "output_type": "execute_result"
    }
   ],
   "source": [
    "X_inter.columns.difference(X_train)"
   ],
   "metadata": {
    "collapsed": false,
    "pycharm": {
     "name": "#%%\n"
    }
   }
  },
  {
   "cell_type": "code",
   "execution_count": 20,
   "outputs": [
    {
     "data": {
      "text/plain": "{'app_type', 'known_dero', 'known_outstanding_loan'}"
     },
     "execution_count": 20,
     "metadata": {},
     "output_type": "execute_result"
    }
   ],
   "source": [
    "set(X_train.columns)-(set(X_inter.columns.tolist()))"
   ],
   "metadata": {
    "collapsed": false,
    "pycharm": {
     "name": "#%%\n"
    }
   }
  },
  {
   "cell_type": "code",
   "execution_count": 21,
   "outputs": [
    {
     "data": {
      "text/plain": "{'f5', 'house_loan_status', 'marriage', 'offsprings', 'sub_class', 'work_type'}"
     },
     "execution_count": 21,
     "metadata": {},
     "output_type": "execute_result"
    }
   ],
   "source": [
    "set(X_inter.columns)-(set(X_train.columns.tolist()))"
   ],
   "metadata": {
    "collapsed": false,
    "pycharm": {
     "name": "#%%\n"
    }
   }
  },
  {
   "cell_type": "code",
   "execution_count": 26,
   "outputs": [
    {
     "data": {
      "text/plain": "Index(['loan_id', 'user_id', 'total_loan', 'year_of_loan', 'interest',\n       'monthly_payment', 'class', 'employer_type', 'industry', 'work_year',\n       'house_exist', 'censor_status', 'issue_date', 'use', 'post_code',\n       'region', 'debt_loan_ratio', 'del_in_18month', 'scoring_low',\n       'scoring_high', 'known_outstanding_loan', 'known_dero',\n       'pub_dero_bankrup', 'recircle_b', 'recircle_u', 'initial_list_status',\n       'app_type', 'earlies_credit_mon', 'title', 'policy_code', 'f0', 'f1',\n       'f2', 'f3', 'f4', 'early_return', 'early_return_amount',\n       'early_return_amount_3mon', 'isDefault'],\n      dtype='object')"
     },
     "execution_count": 26,
     "metadata": {},
     "output_type": "execute_result"
    }
   ],
   "source": [],
   "metadata": {
    "collapsed": false,
    "pycharm": {
     "name": "#%%\n"
    }
   }
  },
  {
   "cell_type": "code",
   "execution_count": 27,
   "outputs": [
    {
     "data": {
      "text/plain": "Index(['loan_id', 'user_id', 'total_loan', 'year_of_loan', 'interest',\n       'monthly_payment', 'class', 'employer_type', 'industry', 'work_year',\n       'house_exist', 'censor_status', 'issue_date', 'use', 'post_code',\n       'region', 'debt_loan_ratio', 'del_in_18month', 'scoring_low',\n       'scoring_high', 'known_outstanding_loan', 'known_dero',\n       'pub_dero_bankrup', 'recircle_b', 'recircle_u', 'initial_list_status',\n       'app_type', 'earlies_credit_mon', 'title', 'policy_code', 'f0', 'f1',\n       'f2', 'f3', 'f4', 'early_return', 'early_return_amount',\n       'early_return_amount_3mon', 'isDefault'],\n      dtype='object')"
     },
     "execution_count": 27,
     "metadata": {},
     "output_type": "execute_result"
    }
   ],
   "source": [
    "X_train.columns"
   ],
   "metadata": {
    "collapsed": false,
    "pycharm": {
     "name": "#%%\n"
    }
   }
  },
  {
   "cell_type": "code",
   "execution_count": 63,
   "outputs": [
    {
     "name": "stderr",
     "output_type": "stream",
     "text": [
      "E:\\ancaconda2\\envs\\pytorch5\\lib\\site-packages\\seaborn\\_decorators.py:36: FutureWarning: Pass the following variable as a keyword arg: x. From version 0.12, the only valid positional argument will be `data`, and passing other arguments without an explicit keyword will result in an error or misinterpretation.\n",
      "  warnings.warn(\n"
     ]
    },
    {
     "data": {
      "text/plain": "<Figure size 500x200 with 1 Axes>",
      "image/png": "[encoded data removed]"
     },
     "metadata": {},
     "output_type": "display_data"
    }
   ],
   "source": [
    "import seaborn as sns\n",
    "from matplotlib import pyplot as plt\n",
    "plt.figure(figsize=(5,2))\n",
    "sns.boxplot(X_train[\"total_loan\"])\n",
    "plt.show()"
   ],
   "metadata": {
    "collapsed": false,
    "pycharm": {
     "name": "#%%\n"
    }
   }
  },
  {
   "cell_type": "code",
   "execution_count": 39,
   "outputs": [
    {
     "name": "stdout",
     "output_type": "stream",
     "text": [
      "40.21704545750001\n"
     ]
    }
   ],
   "source": [
    "# 计算下四分位数和上四分位\n",
    "Q1 = X_train[\"debt_loan_ratio\"].quantile(q = 0.25)\n",
    "Q3 = X_train[\"debt_loan_ratio\"].quantile(q = 0.75)\n",
    "\n",
    "# 基于1.5倍的四分位差计算上下须对应的值\n",
    "low_whisker = Q1 - 1.5*(Q3 - Q1)\n",
    "up_whisker = Q3 + 1.5*(Q3 - Q1)\n",
    "print(up_whisker)"
   ],
   "metadata": {
    "collapsed": false,
    "pycharm": {
     "name": "#%%\n"
    }
   }
  },
  {
   "cell_type": "code",
   "execution_count": 47,
   "outputs": [],
   "source": [
    "X_train.drop(X_train[X_train[\"total_loan\"] > 3800].index,inplace=True)\n",
    "X_train.drop(X_train[X_train[\"total_loan\"] >3800].index,inplace=True)"
   ],
   "metadata": {
    "collapsed": false,
    "pycharm": {
     "name": "#%%\n"
    }
   }
  },
  {
   "cell_type": "code",
   "execution_count": 48,
   "outputs": [
    {
     "data": {
      "text/plain": "            loan_id        user_id   total_loan  year_of_loan   interest  \\\ncount  4.000000e+00       4.000000     4.000000           4.0   4.000000   \nmean   1.027398e+06  227397.750000  3125.000000           3.0  18.638000   \nstd    2.080986e+04   20809.864878   629.152869           0.0   1.832069   \nmin    1.006031e+06  206031.000000  2363.636364           3.0  16.605000   \n25%    1.011912e+06  211911.750000  2738.636364           3.0  17.334000   \n50%    1.026835e+06  226835.000000  3204.545455           3.0  18.826000   \n75%    1.042321e+06  242321.000000  3590.909091           3.0  20.130000   \nmax    1.049890e+06  249890.000000  3727.272727           3.0  20.295000   \n\n       monthly_payment  house_exist  censor_status       use   post_code  ...  \\\ncount         4.000000         4.00        4.00000  4.000000    4.000000  ...   \nmean        114.902500         0.25        1.50000  4.000000  351.750000  ...   \nstd          32.106097         0.50        0.57735  1.414214  253.597286  ...   \nmin          72.760000         0.00        1.00000  2.000000  115.000000  ...   \n25%         101.275000         0.00        1.00000  3.500000  201.250000  ...   \n50%         119.055000         0.00        1.50000  4.500000  295.500000  ...   \n75%         132.682500         0.25        2.00000  5.000000  446.000000  ...   \nmax         148.740000         1.00        2.00000  5.000000  701.000000  ...   \n\n       policy_code         f0   f1         f2         f3        f4  \\\ncount          4.0   4.000000  3.0   4.000000   4.000000  4.000000   \nmean           1.0   8.750000  0.0   6.250000  18.000000  6.000000   \nstd            0.0   7.088723  0.0   3.774917  18.672618  2.160247   \nmin            1.0   4.000000  0.0   2.000000   8.000000  4.000000   \n25%            1.0   4.000000  0.0   4.250000   8.750000  4.750000   \n50%            1.0   6.000000  0.0   6.000000   9.000000  5.500000   \n75%            1.0  10.750000  0.0   8.000000  18.250000  6.750000   \nmax            1.0  19.000000  0.0  11.000000  46.000000  9.000000   \n\n       early_return  early_return_amount  early_return_amount_3mon  isDefault  \ncount          4.00             4.000000                       4.0       4.00  \nmean           1.25           336.000000                       0.0       0.25  \nstd            1.50           527.105935                       0.0       0.50  \nmin            0.00             0.000000                       0.0       0.00  \n25%            0.00             0.000000                       0.0       0.00  \n50%            1.00           117.500000                       0.0       0.00  \n75%            2.25           453.500000                       0.0       0.25  \nmax            3.00          1109.000000                       0.0       1.00  \n\n[8 rows x 33 columns]",
      "text/html": "<div>\n<style scoped>\n    .dataframe tbody tr th:only-of-type {\n        vertical-align: middle;\n    }\n\n    .dataframe tbody tr th {\n        vertical-align: top;\n    }\n\n    .dataframe thead th {\n        text-align: right;\n    }\n</style>\n<table border=\"1\" class=\"dataframe\">\n  <thead>\n    <tr style=\"text-align: right;\">\n      <th></th>\n      <th>loan_id</th>\n      <th>user_id</th>\n      <th>total_loan</th>\n      <th>year_of_loan</th>\n      <th>interest</th>\n      <th>monthly_payment</th>\n      <th>house_exist</th>\n      <th>censor_status</th>\n      <th>use</th>\n      <th>post_code</th>\n      <th>...</th>\n      <th>policy_code</th>\n      <th>f0</th>\n      <th>f1</th>\n      <th>f2</th>\n      <th>f3</th>\n      <th>f4</th>\n      <th>early_return</th>\n      <th>early_return_amount</th>\n      <th>early_return_amount_3mon</th>\n      <th>isDefault</th>\n    </tr>\n  </thead>\n  <tbody>\n    <tr>\n      <th>count</th>\n      <td>4.000000e+00</td>\n      <td>4.000000</td>\n      <td>4.000000</td>\n      <td>4.0</td>\n      <td>4.000000</td>\n      <td>4.000000</td>\n      <td>4.00</td>\n      <td>4.00000</td>\n      <td>4.000000</td>\n      <td>4.000000</td>\n      <td>...</td>\n      <td>4.0</td>\n      <td>4.000000</td>\n      <td>3.0</td>\n      <td>4.000000</td>\n      <td>4.000000</td>\n      <td>4.000000</td>\n      <td>4.00</td>\n      <td>4.000000</td>\n      <td>4.0</td>\n      <td>4.00</td>\n    </tr>\n    <tr>\n      <th>mean</th>\n      <td>1.027398e+06</td>\n      <td>227397.750000</td>\n      <td>3125.000000</td>\n      <td>3.0</td>\n      <td>18.638000</td>\n      <td>114.902500</td>\n      <td>0.25</td>\n      <td>1.50000</td>\n      <td>4.000000</td>\n      <td>351.750000</td>\n      <td>...</td>\n      <td>1.0</td>\n      <td>8.750000</td>\n      <td>0.0</td>\n      <td>6.250000</td>\n      <td>18.000000</td>\n      <td>6.000000</td>\n      <td>1.25</td>\n      <td>336.000000</td>\n      <td>0.0</td>\n      <td>0.25</td>\n    </tr>\n    <tr>\n      <th>std</th>\n      <td>2.080986e+04</td>\n      <td>20809.864878</td>\n      <td>629.152869</td>\n      <td>0.0</td>\n      <td>1.832069</td>\n      <td>32.106097</td>\n      <td>0.50</td>\n      <td>0.57735</td>\n      <td>1.414214</td>\n      <td>253.597286</td>\n      <td>...</td>\n      <td>0.0</td>\n      <td>7.088723</td>\n      <td>0.0</td>\n      <td>3.774917</td>\n      <td>18.672618</td>\n      <td>2.160247</td>\n      <td>1.50</td>\n      <td>527.105935</td>\n      <td>0.0</td>\n      <td>0.50</td>\n    </tr>\n    <tr>\n      <th>min</th>\n      <td>1.006031e+06</td>\n      <td>206031.000000</td>\n      <td>2363.636364</td>\n      <td>3.0</td>\n      <td>16.605000</td>\n      <td>72.760000</td>\n      <td>0.00</td>\n      <td>1.00000</td>\n      <td>2.000000</td>\n      <td>115.000000</td>\n      <td>...</td>\n      <td>1.0</td>\n      <td>4.000000</td>\n      <td>0.0</td>\n      <td>2.000000</td>\n      <td>8.000000</td>\n      <td>4.000000</td>\n      <td>0.00</td>\n      <td>0.000000</td>\n      <td>0.0</td>\n      <td>0.00</td>\n    </tr>\n    <tr>\n      <th>25%</th>\n      <td>1.011912e+06</td>\n      <td>211911.750000</td>\n      <td>2738.636364</td>\n      <td>3.0</td>\n      <td>17.334000</td>\n      <td>101.275000</td>\n      <td>0.00</td>\n      <td>1.00000</td>\n      <td>3.500000</td>\n      <td>201.250000</td>\n      <td>...</td>\n      <td>1.0</td>\n      <td>4.000000</td>\n      <td>0.0</td>\n      <td>4.250000</td>\n      <td>8.750000</td>\n      <td>4.750000</td>\n      <td>0.00</td>\n      <td>0.000000</td>\n      <td>0.0</td>\n      <td>0.00</td>\n    </tr>\n    <tr>\n      <th>50%</th>\n      <td>1.026835e+06</td>\n      <td>226835.000000</td>\n      <td>3204.545455</td>\n      <td>3.0</td>\n      <td>18.826000</td>\n      <td>119.055000</td>\n      <td>0.00</td>\n      <td>1.50000</td>\n      <td>4.500000</td>\n      <td>295.500000</td>\n      <td>...</td>\n      <td>1.0</td>\n      <td>6.000000</td>\n      <td>0.0</td>\n      <td>6.000000</td>\n      <td>9.000000</td>\n      <td>5.500000</td>\n      <td>1.00</td>\n      <td>117.500000</td>\n      <td>0.0</td>\n      <td>0.00</td>\n    </tr>\n    <tr>\n      <th>75%</th>\n      <td>1.042321e+06</td>\n      <td>242321.000000</td>\n      <td>3590.909091</td>\n      <td>3.0</td>\n      <td>20.130000</td>\n      <td>132.682500</td>\n      <td>0.25</td>\n      <td>2.00000</td>\n      <td>5.000000</td>\n      <td>446.000000</td>\n      <td>...</td>\n      <td>1.0</td>\n      <td>10.750000</td>\n      <td>0.0</td>\n      <td>8.000000</td>\n      <td>18.250000</td>\n      <td>6.750000</td>\n      <td>2.25</td>\n      <td>453.500000</td>\n      <td>0.0</td>\n      <td>0.25</td>\n    </tr>\n    <tr>\n      <th>max</th>\n      <td>1.049890e+06</td>\n      <td>249890.000000</td>\n      <td>3727.272727</td>\n      <td>3.0</td>\n      <td>20.295000</td>\n      <td>148.740000</td>\n      <td>1.00</td>\n      <td>2.00000</td>\n      <td>5.000000</td>\n      <td>701.000000</td>\n      <td>...</td>\n      <td>1.0</td>\n      <td>19.000000</td>\n      <td>0.0</td>\n      <td>11.000000</td>\n      <td>46.000000</td>\n      <td>9.000000</td>\n      <td>3.00</td>\n      <td>1109.000000</td>\n      <td>0.0</td>\n      <td>1.00</td>\n    </tr>\n  </tbody>\n</table>\n<p>8 rows × 33 columns</p>\n</div>"
     },
     "execution_count": 48,
     "metadata": {},
     "output_type": "execute_result"
    }
   ],
   "source": [
    "X_train.describe()"
   ],
   "metadata": {
    "collapsed": false,
    "pycharm": {
     "name": "#%%\n"
    }
   }
  },
  {
   "cell_type": "code",
   "execution_count": null,
   "outputs": [],
   "source": [],
   "metadata": {
    "collapsed": false,
    "pycharm": {
     "name": "#%%\n"
    }
   }
  }
 ],
 "metadata": {
  "kernelspec": {
   "display_name": "Python 3",
   "language": "python",
   "name": "python3"
  },
  "language_info": {
   "codemirror_mode": {
    "name": "ipython",
    "version": 2
   },
   "file_extension": ".py",
   "mimetype": "text/x-python",
   "name": "python",
   "nbconvert_exporter": "python",
   "pygments_lexer": "ipython2",
   "version": "2.7.6"
  }
 },
 "nbformat": 4,
 "nbformat_minor": 0
}